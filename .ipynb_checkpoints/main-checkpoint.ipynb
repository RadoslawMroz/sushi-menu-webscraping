{
 "cells": [
  {
   "cell_type": "code",
   "execution_count": 1,
   "id": "ef7ad53b-4561-4c60-a02b-97417eae92b5",
   "metadata": {},
   "outputs": [],
   "source": [
    "from selenium import webdriver\n",
    "from selenium.webdriver.chrome.service import Service\n",
    "from selenium.webdriver.common.by import By\n",
    "from selenium.webdriver.common.keys import Keys\n",
    "from selenium.webdriver.support.ui import WebDriverWait\n",
    "from selenium.webdriver.support import expected_conditions as EC\n",
    "import time\n",
    "import pandas as pd"
   ]
  },
  {
   "cell_type": "code",
   "execution_count": null,
   "id": "78c3446d-eccb-4160-9185-91c3f13bb289",
   "metadata": {},
   "outputs": [],
   "source": [
    "chrome_options = webdriver.ChromeOptions()\n",
    "chrome_options.add_argument('--start-maximized')\n",
    "\n",
    "service = Service(executive_path = 'chromedriver.exe')\n",
    "driver = webdriver.Chrome(service=service, options=chrome_options)\n",
    "\n",
    "driver.get('https://sushi-go.pl/')\n",
    "\n",
    "menu_button = driver.find_element(By.XPATH, '//*[@id=\"sp-header\"]/div/div/div/div[2]/div/nav/ul/li[2]/a')\n",
    "menu_button.click()\n",
    "\n",
    "soups_section = driver.find_element(By.XPATH, '//*[@id=\"sp-component\"]/div/div[2]/div/div/div[1]/div/div[1]/a')\n",
    "soups_section.click()\n",
    "\n",
    "#Searching for titles\n",
    "soups_divs_titles = driver.find_elements(By.CLASS_NAME, 'pricelist-title')\n",
    "#Searching for prices\n",
    "soups_divs_prices = driver.find_elements(By.CLASS_NAME, 'pricelist-price')\n",
    "#Entering into smaller div\n",
    "soups_divs_informations = driver.find_elements(By.CLASS_NAME, 'pricelist-text-content')\n",
    "\n",
    "soups_titles = []\n",
    "soups_prices = []\n",
    "soups_descriptions = []\n",
    "\n",
    "for title in soups_divs_titles:\n",
    "    soups_titles.append(title.text)\n",
    "\n",
    "for price in soups_divs_prices:\n",
    "    soups_prices.append(price.text)\n",
    "\n",
    "for info in soups_divs_informations:\n",
    "    description = info.find_element(By.CLASS_NAME, 'sppb-addon-content')\n",
    "    soups_descriptions.append(description.text)\n",
    "\n",
    "#Creating data frame\n",
    "data = {'Soup': soups_titles, 'Price':soups_prices, 'Description': soups_descriptions }\n",
    "data_frame = pd.DataFrame(data)\n",
    "\n",
    "print(data_frame)"
   ]
  },
  {
   "cell_type": "code",
   "execution_count": null,
   "id": "82bdbfbc-c84c-4cb5-ad35-6542d6cec99a",
   "metadata": {},
   "outputs": [],
   "source": []
  }
 ],
 "metadata": {
  "kernelspec": {
   "display_name": "Python 3 (ipykernel)",
   "language": "python",
   "name": "python3"
  },
  "language_info": {
   "codemirror_mode": {
    "name": "ipython",
    "version": 3
   },
   "file_extension": ".py",
   "mimetype": "text/x-python",
   "name": "python",
   "nbconvert_exporter": "python",
   "pygments_lexer": "ipython3",
   "version": "3.11.2"
  }
 },
 "nbformat": 4,
 "nbformat_minor": 5
}
