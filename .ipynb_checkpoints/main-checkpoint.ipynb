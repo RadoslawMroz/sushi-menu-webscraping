{
 "cells": [
  {
   "cell_type": "code",
   "execution_count": 1,
   "id": "ef7ad53b-4561-4c60-a02b-97417eae92b5",
   "metadata": {},
   "outputs": [],
   "source": [
    "from selenium import webdriver\n",
    "from selenium.webdriver.chrome.service import Service\n",
    "from selenium.webdriver.common.by import By\n",
    "from selenium.webdriver.common.keys import Keys\n",
    "from selenium.webdriver.support.ui import WebDriverWait\n",
    "from selenium.webdriver.support import expected_conditions as EC\n",
    "import time\n",
    "import pandas as pd"
   ]
  },
  {
   "cell_type": "code",
   "execution_count": 2,
   "id": "2084e05f-5b7e-43c1-8fa9-944a688f5a58",
   "metadata": {},
   "outputs": [],
   "source": [
    "def chrome_options():\n",
    "    chrome_options = webdriver.ChromeOptions()\n",
    "    chrome_options.add_argument('--start-maximized')"
   ]
  },
  {
   "cell_type": "code",
   "execution_count": 3,
   "id": "7ea20198-86db-4e61-864c-04bae219607d",
   "metadata": {},
   "outputs": [],
   "source": [
    "def menu_button(driver):\n",
    "    menu_button = driver.find_element(By.XPATH, '//*[@id=\"sp-header\"]/div/div/div/div[2]/div/nav/ul/li[2]/a')\n",
    "    menu_button.click()"
   ]
  },
  {
   "cell_type": "code",
   "execution_count": 4,
   "id": "0da411e5-0892-495f-b530-6142df93ea73",
   "metadata": {},
   "outputs": [],
   "source": [
    "def section_selection(driver, option):\n",
    "    section = driver.find_element(By.LINK_TEXT, option.upper())\n",
    "    section.click()"
   ]
  },
  {
   "cell_type": "code",
   "execution_count": 5,
   "id": "f0b03259-d275-4274-9a93-8f699eca02bf",
   "metadata": {},
   "outputs": [],
   "source": [
    "def titles_scraping_and_saving(driver):\n",
    "    titles_divs = driver.find_elements(By.CLASS_NAME, 'pricelist-title')\n",
    "    titles = []\n",
    "    for title in titles_divs:\n",
    "        titles.append(title.text)\n",
    "    return titles"
   ]
  },
  {
   "cell_type": "code",
   "execution_count": 6,
   "id": "4a3f2dc4-e4b9-4a0c-8974-84229b4354ce",
   "metadata": {},
   "outputs": [],
   "source": [
    "def prices_scraping_and_saving(driver):\n",
    "    prices_divs = driver.find_elements(By.CLASS_NAME, 'pricelist-price')\n",
    "    prices = []\n",
    "    for price in prices_divs:\n",
    "        prices.append(price.text)\n",
    "    return prices"
   ]
  },
  {
   "cell_type": "code",
   "execution_count": 7,
   "id": "4b329911-60bf-4db8-a7e5-9780fa9f2030",
   "metadata": {},
   "outputs": [],
   "source": [
    "def descriptions_scraping_and_saving(driver):\n",
    "    informations_divs = driver.find_elements(By.CLASS_NAME, 'pricelist-text-content')\n",
    "    descriptions = []\n",
    "    for info in informations_divs:\n",
    "        description = info.find_element(By.CLASS_NAME, 'sppb-addon-content')\n",
    "        descriptions.append(description.text)\n",
    "    return descriptions"
   ]
  },
  {
   "cell_type": "code",
   "execution_count": 8,
   "id": "d5476dff-8776-43d7-afb2-792b1cfd0038",
   "metadata": {},
   "outputs": [],
   "source": [
    "def creating_pd_frame(titles, prices, descriptions, option):\n",
    "    data = {option:titles, 'Price':prices, 'Description':descriptions }\n",
    "    data_frame = pd.DataFrame(data)\n",
    "    return data_frame"
   ]
  },
  {
   "cell_type": "code",
   "execution_count": 9,
   "id": "a56bea5a-5748-4430-8455-f6fff2baad50",
   "metadata": {},
   "outputs": [],
   "source": [
    "def creating_csv_file(data_frame, option):\n",
    "    data_frame.to_csv(option, index=False)"
   ]
  },
  {
   "cell_type": "code",
   "execution_count": 10,
   "id": "78c3446d-eccb-4160-9185-91c3f13bb289",
   "metadata": {},
   "outputs": [],
   "source": [
    "chrome_options = chrome_options()\n",
    "\n",
    "service = Service(executive_path = 'chromedriver.exe')\n",
    "driver = webdriver.Chrome(service=service, options=chrome_options)\n",
    "\n",
    "menu_options = ['zupy','hoso maki','sałatki','przystawki','nigiri','futo maki','uramaki','temaki','gunkan','strefa vege','specjały','sashimi','zestawy','makarony','mięsa','lunch','desery','dania dla dzieci']\n",
    "\n",
    "for option in menu_options:\n",
    "    driver.get('https://sushi-go.pl/')\n",
    "    menu_button(driver)\n",
    "    section_selection(driver, option)\n",
    "    titles = titles_scraping_and_saving(driver)\n",
    "    prices = prices_scraping_and_saving(driver)\n",
    "    descriptions = descriptions_scraping_and_saving(driver)\n",
    "    data_frame = creating_pd_frame(titles, prices, descriptions, option)\n",
    "    creating_csv_file(data_frame, option)"
   ]
  },
  {
   "cell_type": "code",
   "execution_count": null,
   "id": "82bdbfbc-c84c-4cb5-ad35-6542d6cec99a",
   "metadata": {},
   "outputs": [],
   "source": []
  }
 ],
 "metadata": {
  "kernelspec": {
   "display_name": "Python 3 (ipykernel)",
   "language": "python",
   "name": "python3"
  },
  "language_info": {
   "codemirror_mode": {
    "name": "ipython",
    "version": 3
   },
   "file_extension": ".py",
   "mimetype": "text/x-python",
   "name": "python",
   "nbconvert_exporter": "python",
   "pygments_lexer": "ipython3",
   "version": "3.12.0"
  }
 },
 "nbformat": 4,
 "nbformat_minor": 5
}
